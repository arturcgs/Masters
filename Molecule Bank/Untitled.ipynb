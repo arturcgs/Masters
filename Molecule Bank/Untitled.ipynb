{
 "cells": [
  {
   "cell_type": "code",
   "execution_count": 37,
   "id": "d3856338",
   "metadata": {},
   "outputs": [],
   "source": [
    "import math\n",
    "from pathlib import Path\n",
    "from zipfile import ZipFile\n",
    "from tempfile import TemporaryDirectory\n",
    "\n",
    "import numpy as np\n",
    "import pandas as pd\n",
    "from rdkit.Chem import PandasTools\n",
    "from chembl_webresource_client.new_client import new_client\n",
    "from tqdm.auto import tqdm"
   ]
  },
  {
   "cell_type": "code",
   "execution_count": 38,
   "id": "9f1ce52e",
   "metadata": {},
   "outputs": [],
   "source": [
    "HERE = Path(_dh[-1])\n",
    "DATA = HERE / \"data\""
   ]
  },
  {
   "cell_type": "code",
   "execution_count": 39,
   "id": "1fabfbeb",
   "metadata": {},
   "outputs": [],
   "source": [
    "targets_api = new_client.target\n",
    "compounds_api = new_client.molecule\n",
    "bioactivities_api = new_client.activity"
   ]
  },
  {
   "cell_type": "code",
   "execution_count": 40,
   "id": "2946b82c",
   "metadata": {},
   "outputs": [],
   "source": [
    "uniprot_id = \"P34972\""
   ]
  },
  {
   "cell_type": "code",
   "execution_count": 41,
   "id": "a356fe97",
   "metadata": {},
   "outputs": [
    {
     "name": "stdout",
     "output_type": "stream",
     "text": [
      "The type of the targets is \"<class 'chembl_webresource_client.query_set.QuerySet'>\"\n"
     ]
    }
   ],
   "source": [
    "# Get target information from ChEMBL but restrict it to specified values only\n",
    "targets = targets_api.get(target_components__accession=uniprot_id).only(\n",
    "    \"target_chembl_id\", \"organism\", \"pref_name\", \"target_type\"\n",
    ")\n",
    "print(f'The type of the targets is \"{type(targets)}\"')"
   ]
  },
  {
   "cell_type": "code",
   "execution_count": 24,
   "id": "ad14d586",
   "metadata": {},
   "outputs": [
    {
     "data": {
      "text/plain": [
       "[{'organism': 'Homo sapiens', 'pref_name': 'Cannabinoid CB2 receptor', 'target_chembl_id': 'CHEMBL253', 'target_type': 'SINGLE PROTEIN'}, {'organism': 'Homo sapiens', 'pref_name': 'Cannabinoid receptor', 'target_chembl_id': 'CHEMBL2096981', 'target_type': 'PROTEIN FAMILY'}]"
      ]
     },
     "execution_count": 24,
     "metadata": {},
     "output_type": "execute_result"
    }
   ],
   "source": [
    "targets"
   ]
  },
  {
   "cell_type": "code",
   "execution_count": 25,
   "id": "9c842b90",
   "metadata": {},
   "outputs": [
    {
     "data": {
      "text/html": [
       "<div>\n",
       "<style scoped>\n",
       "    .dataframe tbody tr th:only-of-type {\n",
       "        vertical-align: middle;\n",
       "    }\n",
       "\n",
       "    .dataframe tbody tr th {\n",
       "        vertical-align: top;\n",
       "    }\n",
       "\n",
       "    .dataframe thead th {\n",
       "        text-align: right;\n",
       "    }\n",
       "</style>\n",
       "<table border=\"1\" class=\"dataframe\">\n",
       "  <thead>\n",
       "    <tr style=\"text-align: right;\">\n",
       "      <th></th>\n",
       "      <th>organism</th>\n",
       "      <th>pref_name</th>\n",
       "      <th>target_chembl_id</th>\n",
       "      <th>target_type</th>\n",
       "    </tr>\n",
       "  </thead>\n",
       "  <tbody>\n",
       "    <tr>\n",
       "      <th>0</th>\n",
       "      <td>Homo sapiens</td>\n",
       "      <td>Cannabinoid CB2 receptor</td>\n",
       "      <td>CHEMBL253</td>\n",
       "      <td>SINGLE PROTEIN</td>\n",
       "    </tr>\n",
       "    <tr>\n",
       "      <th>1</th>\n",
       "      <td>Homo sapiens</td>\n",
       "      <td>Cannabinoid CB2 receptor</td>\n",
       "      <td>CHEMBL253</td>\n",
       "      <td>SINGLE PROTEIN</td>\n",
       "    </tr>\n",
       "    <tr>\n",
       "      <th>2</th>\n",
       "      <td>Homo sapiens</td>\n",
       "      <td>Cannabinoid receptor</td>\n",
       "      <td>CHEMBL2096981</td>\n",
       "      <td>PROTEIN FAMILY</td>\n",
       "    </tr>\n",
       "  </tbody>\n",
       "</table>\n",
       "</div>"
      ],
      "text/plain": [
       "       organism                 pref_name target_chembl_id     target_type\n",
       "0  Homo sapiens  Cannabinoid CB2 receptor        CHEMBL253  SINGLE PROTEIN\n",
       "1  Homo sapiens  Cannabinoid CB2 receptor        CHEMBL253  SINGLE PROTEIN\n",
       "2  Homo sapiens      Cannabinoid receptor    CHEMBL2096981  PROTEIN FAMILY"
      ]
     },
     "execution_count": 25,
     "metadata": {},
     "output_type": "execute_result"
    }
   ],
   "source": [
    "targets = pd.DataFrame.from_records(targets)\n",
    "targets"
   ]
  },
  {
   "cell_type": "code",
   "execution_count": 26,
   "id": "8e0e7f60",
   "metadata": {},
   "outputs": [
    {
     "data": {
      "text/plain": [
       "organism                        Homo sapiens\n",
       "pref_name           Cannabinoid CB2 receptor\n",
       "target_chembl_id                   CHEMBL253\n",
       "target_type                   SINGLE PROTEIN\n",
       "Name: 0, dtype: object"
      ]
     },
     "execution_count": 26,
     "metadata": {},
     "output_type": "execute_result"
    }
   ],
   "source": [
    "target = targets.iloc[0]\n",
    "target"
   ]
  },
  {
   "cell_type": "code",
   "execution_count": 27,
   "id": "b45e97e7",
   "metadata": {},
   "outputs": [
    {
     "name": "stdout",
     "output_type": "stream",
     "text": [
      "The target ChEMBL ID is CHEMBL253\n"
     ]
    }
   ],
   "source": [
    "chembl_id = target.target_chembl_id\n",
    "print(f\"The target ChEMBL ID is {chembl_id}\")"
   ]
  },
  {
   "cell_type": "code",
   "execution_count": 28,
   "id": "5bdd241a",
   "metadata": {},
   "outputs": [
    {
     "name": "stdout",
     "output_type": "stream",
     "text": [
      "Length and type of bioactivities object: 4230, <class 'chembl_webresource_client.query_set.QuerySet'>\n"
     ]
    }
   ],
   "source": [
    "bioactivities = bioactivities_api.filter(\n",
    "    target_chembl_id=chembl_id, type=\"Ki\", relation=\"=\", assay_type=\"B\"\n",
    ").only(\n",
    "    \"activity_id\",\n",
    "    \"assay_chembl_id\",\n",
    "    \"assay_description\",\n",
    "    \"assay_type\",\n",
    "    \"molecule_chembl_id\",\n",
    "    \"type\",\n",
    "    \"standard_units\",\n",
    "    \"relation\",\n",
    "    \"standard_value\",\n",
    "    \"target_chembl_id\",\n",
    "    \"target_organism\",\n",
    ")\n",
    "\n",
    "print(f\"Length and type of bioactivities object: {len(bioactivities)}, {type(bioactivities)}\")"
   ]
  },
  {
   "cell_type": "code",
   "execution_count": 29,
   "id": "bd175f2e",
   "metadata": {},
   "outputs": [
    {
     "name": "stdout",
     "output_type": "stream",
     "text": [
      "Length and type of first element: 13, <class 'dict'>\n"
     ]
    },
    {
     "data": {
      "text/plain": [
       "{'activity_id': 39992,\n",
       " 'assay_chembl_id': 'CHEMBL659744',\n",
       " 'assay_description': 'Affinity to displace CP-55940 binding from Cannabinoid receptor 2 of human expressed in CHO cells',\n",
       " 'assay_type': 'B',\n",
       " 'molecule_chembl_id': 'CHEMBL412262',\n",
       " 'relation': '=',\n",
       " 'standard_units': 'nM',\n",
       " 'standard_value': '7943.0',\n",
       " 'target_chembl_id': 'CHEMBL253',\n",
       " 'target_organism': 'Homo sapiens',\n",
       " 'type': 'Ki',\n",
       " 'units': 'nM',\n",
       " 'value': '7943.0'}"
      ]
     },
     "execution_count": 29,
     "metadata": {},
     "output_type": "execute_result"
    }
   ],
   "source": [
    "print(f\"Length and type of first element: {len(bioactivities[0])}, {type(bioactivities[0])}\")\n",
    "bioactivities[0]"
   ]
  },
  {
   "cell_type": "code",
   "execution_count": 30,
   "id": "df25ba38",
   "metadata": {
    "scrolled": true
   },
   "outputs": [
    {
     "name": "stdout",
     "output_type": "stream",
     "text": [
      "DataFrame shape: (4231, 13)\n"
     ]
    },
    {
     "data": {
      "text/html": [
       "<div>\n",
       "<style scoped>\n",
       "    .dataframe tbody tr th:only-of-type {\n",
       "        vertical-align: middle;\n",
       "    }\n",
       "\n",
       "    .dataframe tbody tr th {\n",
       "        vertical-align: top;\n",
       "    }\n",
       "\n",
       "    .dataframe thead th {\n",
       "        text-align: right;\n",
       "    }\n",
       "</style>\n",
       "<table border=\"1\" class=\"dataframe\">\n",
       "  <thead>\n",
       "    <tr style=\"text-align: right;\">\n",
       "      <th></th>\n",
       "      <th>activity_id</th>\n",
       "      <th>assay_chembl_id</th>\n",
       "      <th>assay_description</th>\n",
       "      <th>assay_type</th>\n",
       "      <th>molecule_chembl_id</th>\n",
       "      <th>relation</th>\n",
       "      <th>standard_units</th>\n",
       "      <th>standard_value</th>\n",
       "      <th>target_chembl_id</th>\n",
       "      <th>target_organism</th>\n",
       "      <th>type</th>\n",
       "      <th>units</th>\n",
       "      <th>value</th>\n",
       "    </tr>\n",
       "  </thead>\n",
       "  <tbody>\n",
       "    <tr>\n",
       "      <th>0</th>\n",
       "      <td>39992</td>\n",
       "      <td>CHEMBL659744</td>\n",
       "      <td>Affinity to displace CP-55940 binding from Can...</td>\n",
       "      <td>B</td>\n",
       "      <td>CHEMBL412262</td>\n",
       "      <td>=</td>\n",
       "      <td>nM</td>\n",
       "      <td>7943.0</td>\n",
       "      <td>CHEMBL253</td>\n",
       "      <td>Homo sapiens</td>\n",
       "      <td>Ki</td>\n",
       "      <td>nM</td>\n",
       "      <td>7943.0</td>\n",
       "    </tr>\n",
       "    <tr>\n",
       "      <th>1</th>\n",
       "      <td>39992</td>\n",
       "      <td>CHEMBL659744</td>\n",
       "      <td>Affinity to displace CP-55940 binding from Can...</td>\n",
       "      <td>B</td>\n",
       "      <td>CHEMBL412262</td>\n",
       "      <td>=</td>\n",
       "      <td>nM</td>\n",
       "      <td>7943.0</td>\n",
       "      <td>CHEMBL253</td>\n",
       "      <td>Homo sapiens</td>\n",
       "      <td>Ki</td>\n",
       "      <td>nM</td>\n",
       "      <td>7943.0</td>\n",
       "    </tr>\n",
       "    <tr>\n",
       "      <th>2</th>\n",
       "      <td>42366</td>\n",
       "      <td>CHEMBL659744</td>\n",
       "      <td>Affinity to displace CP-55940 binding from Can...</td>\n",
       "      <td>B</td>\n",
       "      <td>CHEMBL156264</td>\n",
       "      <td>=</td>\n",
       "      <td>nM</td>\n",
       "      <td>3515.0</td>\n",
       "      <td>CHEMBL253</td>\n",
       "      <td>Homo sapiens</td>\n",
       "      <td>Ki</td>\n",
       "      <td>nM</td>\n",
       "      <td>3515.0</td>\n",
       "    </tr>\n",
       "    <tr>\n",
       "      <th>3</th>\n",
       "      <td>59905</td>\n",
       "      <td>CHEMBL659744</td>\n",
       "      <td>Affinity to displace CP-55940 binding from Can...</td>\n",
       "      <td>B</td>\n",
       "      <td>CHEMBL350924</td>\n",
       "      <td>=</td>\n",
       "      <td>nM</td>\n",
       "      <td>1000.0</td>\n",
       "      <td>CHEMBL253</td>\n",
       "      <td>Homo sapiens</td>\n",
       "      <td>Ki</td>\n",
       "      <td>nM</td>\n",
       "      <td>1000.0</td>\n",
       "    </tr>\n",
       "    <tr>\n",
       "      <th>4</th>\n",
       "      <td>64002</td>\n",
       "      <td>CHEMBL659744</td>\n",
       "      <td>Affinity to displace CP-55940 binding from Can...</td>\n",
       "      <td>B</td>\n",
       "      <td>CHEMBL111</td>\n",
       "      <td>=</td>\n",
       "      <td>nM</td>\n",
       "      <td>1580.0</td>\n",
       "      <td>CHEMBL253</td>\n",
       "      <td>Homo sapiens</td>\n",
       "      <td>Ki</td>\n",
       "      <td>nM</td>\n",
       "      <td>1580.0</td>\n",
       "    </tr>\n",
       "  </tbody>\n",
       "</table>\n",
       "</div>"
      ],
      "text/plain": [
       "   activity_id assay_chembl_id  \\\n",
       "0        39992    CHEMBL659744   \n",
       "1        39992    CHEMBL659744   \n",
       "2        42366    CHEMBL659744   \n",
       "3        59905    CHEMBL659744   \n",
       "4        64002    CHEMBL659744   \n",
       "\n",
       "                                   assay_description assay_type  \\\n",
       "0  Affinity to displace CP-55940 binding from Can...          B   \n",
       "1  Affinity to displace CP-55940 binding from Can...          B   \n",
       "2  Affinity to displace CP-55940 binding from Can...          B   \n",
       "3  Affinity to displace CP-55940 binding from Can...          B   \n",
       "4  Affinity to displace CP-55940 binding from Can...          B   \n",
       "\n",
       "  molecule_chembl_id relation standard_units standard_value target_chembl_id  \\\n",
       "0       CHEMBL412262        =             nM         7943.0        CHEMBL253   \n",
       "1       CHEMBL412262        =             nM         7943.0        CHEMBL253   \n",
       "2       CHEMBL156264        =             nM         3515.0        CHEMBL253   \n",
       "3       CHEMBL350924        =             nM         1000.0        CHEMBL253   \n",
       "4          CHEMBL111        =             nM         1580.0        CHEMBL253   \n",
       "\n",
       "  target_organism type units   value  \n",
       "0    Homo sapiens   Ki    nM  7943.0  \n",
       "1    Homo sapiens   Ki    nM  7943.0  \n",
       "2    Homo sapiens   Ki    nM  3515.0  \n",
       "3    Homo sapiens   Ki    nM  1000.0  \n",
       "4    Homo sapiens   Ki    nM  1580.0  "
      ]
     },
     "execution_count": 30,
     "metadata": {},
     "output_type": "execute_result"
    }
   ],
   "source": [
    "bioactivities_df = pd.DataFrame.from_records(bioactivities)\n",
    "print(f\"DataFrame shape: {bioactivities_df.shape}\")\n",
    "bioactivities_df.head()"
   ]
  },
  {
   "cell_type": "code",
   "execution_count": 46,
   "id": "102a788d",
   "metadata": {},
   "outputs": [
    {
     "data": {
      "text/html": [
       "<div>\n",
       "<style scoped>\n",
       "    .dataframe tbody tr th:only-of-type {\n",
       "        vertical-align: middle;\n",
       "    }\n",
       "\n",
       "    .dataframe tbody tr th {\n",
       "        vertical-align: top;\n",
       "    }\n",
       "\n",
       "    .dataframe thead th {\n",
       "        text-align: right;\n",
       "    }\n",
       "</style>\n",
       "<table border=\"1\" class=\"dataframe\">\n",
       "  <thead>\n",
       "    <tr style=\"text-align: right;\">\n",
       "      <th></th>\n",
       "      <th>activity_id</th>\n",
       "      <th>assay_chembl_id</th>\n",
       "      <th>assay_description</th>\n",
       "      <th>assay_type</th>\n",
       "      <th>molecule_chembl_id</th>\n",
       "      <th>relation</th>\n",
       "      <th>standard_units</th>\n",
       "      <th>standard_value</th>\n",
       "      <th>target_chembl_id</th>\n",
       "      <th>target_organism</th>\n",
       "      <th>type</th>\n",
       "    </tr>\n",
       "  </thead>\n",
       "  <tbody>\n",
       "    <tr>\n",
       "      <th>0</th>\n",
       "      <td>39992</td>\n",
       "      <td>CHEMBL659744</td>\n",
       "      <td>Affinity to displace CP-55940 binding from Can...</td>\n",
       "      <td>B</td>\n",
       "      <td>CHEMBL412262</td>\n",
       "      <td>=</td>\n",
       "      <td>nM</td>\n",
       "      <td>7943.0</td>\n",
       "      <td>CHEMBL253</td>\n",
       "      <td>Homo sapiens</td>\n",
       "      <td>Ki</td>\n",
       "    </tr>\n",
       "    <tr>\n",
       "      <th>1</th>\n",
       "      <td>39992</td>\n",
       "      <td>CHEMBL659744</td>\n",
       "      <td>Affinity to displace CP-55940 binding from Can...</td>\n",
       "      <td>B</td>\n",
       "      <td>CHEMBL412262</td>\n",
       "      <td>=</td>\n",
       "      <td>nM</td>\n",
       "      <td>7943.0</td>\n",
       "      <td>CHEMBL253</td>\n",
       "      <td>Homo sapiens</td>\n",
       "      <td>Ki</td>\n",
       "    </tr>\n",
       "    <tr>\n",
       "      <th>2</th>\n",
       "      <td>42366</td>\n",
       "      <td>CHEMBL659744</td>\n",
       "      <td>Affinity to displace CP-55940 binding from Can...</td>\n",
       "      <td>B</td>\n",
       "      <td>CHEMBL156264</td>\n",
       "      <td>=</td>\n",
       "      <td>nM</td>\n",
       "      <td>3515.0</td>\n",
       "      <td>CHEMBL253</td>\n",
       "      <td>Homo sapiens</td>\n",
       "      <td>Ki</td>\n",
       "    </tr>\n",
       "    <tr>\n",
       "      <th>3</th>\n",
       "      <td>59905</td>\n",
       "      <td>CHEMBL659744</td>\n",
       "      <td>Affinity to displace CP-55940 binding from Can...</td>\n",
       "      <td>B</td>\n",
       "      <td>CHEMBL350924</td>\n",
       "      <td>=</td>\n",
       "      <td>nM</td>\n",
       "      <td>1000.0</td>\n",
       "      <td>CHEMBL253</td>\n",
       "      <td>Homo sapiens</td>\n",
       "      <td>Ki</td>\n",
       "    </tr>\n",
       "    <tr>\n",
       "      <th>4</th>\n",
       "      <td>64002</td>\n",
       "      <td>CHEMBL659744</td>\n",
       "      <td>Affinity to displace CP-55940 binding from Can...</td>\n",
       "      <td>B</td>\n",
       "      <td>CHEMBL111</td>\n",
       "      <td>=</td>\n",
       "      <td>nM</td>\n",
       "      <td>1580.0</td>\n",
       "      <td>CHEMBL253</td>\n",
       "      <td>Homo sapiens</td>\n",
       "      <td>Ki</td>\n",
       "    </tr>\n",
       "  </tbody>\n",
       "</table>\n",
       "</div>"
      ],
      "text/plain": [
       "   activity_id assay_chembl_id  \\\n",
       "0        39992    CHEMBL659744   \n",
       "1        39992    CHEMBL659744   \n",
       "2        42366    CHEMBL659744   \n",
       "3        59905    CHEMBL659744   \n",
       "4        64002    CHEMBL659744   \n",
       "\n",
       "                                   assay_description assay_type  \\\n",
       "0  Affinity to displace CP-55940 binding from Can...          B   \n",
       "1  Affinity to displace CP-55940 binding from Can...          B   \n",
       "2  Affinity to displace CP-55940 binding from Can...          B   \n",
       "3  Affinity to displace CP-55940 binding from Can...          B   \n",
       "4  Affinity to displace CP-55940 binding from Can...          B   \n",
       "\n",
       "  molecule_chembl_id relation standard_units standard_value target_chembl_id  \\\n",
       "0       CHEMBL412262        =             nM         7943.0        CHEMBL253   \n",
       "1       CHEMBL412262        =             nM         7943.0        CHEMBL253   \n",
       "2       CHEMBL156264        =             nM         3515.0        CHEMBL253   \n",
       "3       CHEMBL350924        =             nM         1000.0        CHEMBL253   \n",
       "4          CHEMBL111        =             nM         1580.0        CHEMBL253   \n",
       "\n",
       "  target_organism type  \n",
       "0    Homo sapiens   Ki  \n",
       "1    Homo sapiens   Ki  \n",
       "2    Homo sapiens   Ki  \n",
       "3    Homo sapiens   Ki  \n",
       "4    Homo sapiens   Ki  "
      ]
     },
     "execution_count": 46,
     "metadata": {},
     "output_type": "execute_result"
    }
   ],
   "source": [
    "# Removing units and value collumn, because the values are not santardized\n",
    "\n",
    "bioactivities_df.drop([\"units\", \"value\"], axis=1, inplace=True)\n",
    "bioactivities_df.head()"
   ]
  },
  {
   "cell_type": "markdown",
   "id": "2b823c06",
   "metadata": {},
   "source": [
    "## Preprocess and filter bioactivity data"
   ]
  },
  {
   "cell_type": "code",
   "execution_count": 48,
   "id": "ed30a1e9",
   "metadata": {},
   "outputs": [
    {
     "data": {
      "text/plain": [
       "activity_id            int64\n",
       "assay_chembl_id       object\n",
       "assay_description     object\n",
       "assay_type            object\n",
       "molecule_chembl_id    object\n",
       "relation              object\n",
       "standard_units        object\n",
       "standard_value        object\n",
       "target_chembl_id      object\n",
       "target_organism       object\n",
       "type                  object\n",
       "dtype: object"
      ]
     },
     "execution_count": 48,
     "metadata": {},
     "output_type": "execute_result"
    }
   ],
   "source": [
    "#verifying if columns are the right type\n",
    "\n",
    "bioactivities_df.dtypes"
   ]
  },
  {
   "cell_type": "code",
   "execution_count": 49,
   "id": "f580d847",
   "metadata": {},
   "outputs": [
    {
     "data": {
      "text/plain": [
       "activity_id             int64\n",
       "assay_chembl_id        object\n",
       "assay_description      object\n",
       "assay_type             object\n",
       "molecule_chembl_id     object\n",
       "relation               object\n",
       "standard_units         object\n",
       "standard_value        float64\n",
       "target_chembl_id       object\n",
       "target_organism        object\n",
       "type                   object\n",
       "dtype: object"
      ]
     },
     "execution_count": 49,
     "metadata": {},
     "output_type": "execute_result"
    }
   ],
   "source": [
    "#standard_value should be float\n",
    "\n",
    "bioactivities_df = bioactivities_df.astype({\"standard_value\": \"float64\"})\n",
    "bioactivities_df.dtypes"
   ]
  },
  {
   "cell_type": "code",
   "execution_count": 50,
   "id": "bd9c23c7",
   "metadata": {},
   "outputs": [
    {
     "name": "stdout",
     "output_type": "stream",
     "text": [
      "DataFrame shape: (4231, 11)\n"
     ]
    }
   ],
   "source": [
    "#drop Na\n",
    "\n",
    "bioactivities_df.dropna(axis=0, how=\"any\", inplace=True)\n",
    "print(f\"DataFrame shape: {bioactivities_df.shape}\")"
   ]
  },
  {
   "cell_type": "code",
   "execution_count": 55,
   "id": "2664bdb6",
   "metadata": {},
   "outputs": [
    {
     "data": {
      "text/plain": [
       "array(['nM'], dtype=object)"
      ]
     },
     "execution_count": 55,
     "metadata": {},
     "output_type": "execute_result"
    }
   ],
   "source": [
    "#Checking if all standard_units are in the same unit\n",
    "\n",
    "bioactivities_df['standard_units'].unique()"
   ]
  },
  {
   "cell_type": "code",
   "execution_count": 57,
   "id": "c289f6fa",
   "metadata": {},
   "outputs": [
    {
     "name": "stdout",
     "output_type": "stream",
     "text": [
      "DataFrame shape: (3641, 11)\n"
     ]
    }
   ],
   "source": [
    "#droping duplicate molecules\n",
    "\n",
    "bioactivities_df.drop_duplicates(\"molecule_chembl_id\", keep=\"first\", inplace=True)\n",
    "print(f\"DataFrame shape: {bioactivities_df.shape}\")"
   ]
  },
  {
   "cell_type": "code",
   "execution_count": 59,
   "id": "766a17d2",
   "metadata": {},
   "outputs": [
    {
     "data": {
      "text/html": [
       "<div>\n",
       "<style scoped>\n",
       "    .dataframe tbody tr th:only-of-type {\n",
       "        vertical-align: middle;\n",
       "    }\n",
       "\n",
       "    .dataframe tbody tr th {\n",
       "        vertical-align: top;\n",
       "    }\n",
       "\n",
       "    .dataframe thead th {\n",
       "        text-align: right;\n",
       "    }\n",
       "</style>\n",
       "<table border=\"1\" class=\"dataframe\">\n",
       "  <thead>\n",
       "    <tr style=\"text-align: right;\">\n",
       "      <th></th>\n",
       "      <th>activity_id</th>\n",
       "      <th>assay_chembl_id</th>\n",
       "      <th>assay_description</th>\n",
       "      <th>assay_type</th>\n",
       "      <th>molecule_chembl_id</th>\n",
       "      <th>relation</th>\n",
       "      <th>standard_units</th>\n",
       "      <th>standard_value</th>\n",
       "      <th>target_chembl_id</th>\n",
       "      <th>target_organism</th>\n",
       "      <th>type</th>\n",
       "    </tr>\n",
       "  </thead>\n",
       "  <tbody>\n",
       "    <tr>\n",
       "      <th>0</th>\n",
       "      <td>39992</td>\n",
       "      <td>CHEMBL659744</td>\n",
       "      <td>Affinity to displace CP-55940 binding from Can...</td>\n",
       "      <td>B</td>\n",
       "      <td>CHEMBL412262</td>\n",
       "      <td>=</td>\n",
       "      <td>nM</td>\n",
       "      <td>7943.0</td>\n",
       "      <td>CHEMBL253</td>\n",
       "      <td>Homo sapiens</td>\n",
       "      <td>Ki</td>\n",
       "    </tr>\n",
       "    <tr>\n",
       "      <th>1</th>\n",
       "      <td>42366</td>\n",
       "      <td>CHEMBL659744</td>\n",
       "      <td>Affinity to displace CP-55940 binding from Can...</td>\n",
       "      <td>B</td>\n",
       "      <td>CHEMBL156264</td>\n",
       "      <td>=</td>\n",
       "      <td>nM</td>\n",
       "      <td>3515.0</td>\n",
       "      <td>CHEMBL253</td>\n",
       "      <td>Homo sapiens</td>\n",
       "      <td>Ki</td>\n",
       "    </tr>\n",
       "    <tr>\n",
       "      <th>2</th>\n",
       "      <td>59905</td>\n",
       "      <td>CHEMBL659744</td>\n",
       "      <td>Affinity to displace CP-55940 binding from Can...</td>\n",
       "      <td>B</td>\n",
       "      <td>CHEMBL350924</td>\n",
       "      <td>=</td>\n",
       "      <td>nM</td>\n",
       "      <td>1000.0</td>\n",
       "      <td>CHEMBL253</td>\n",
       "      <td>Homo sapiens</td>\n",
       "      <td>Ki</td>\n",
       "    </tr>\n",
       "    <tr>\n",
       "      <th>3</th>\n",
       "      <td>64002</td>\n",
       "      <td>CHEMBL659744</td>\n",
       "      <td>Affinity to displace CP-55940 binding from Can...</td>\n",
       "      <td>B</td>\n",
       "      <td>CHEMBL111</td>\n",
       "      <td>=</td>\n",
       "      <td>nM</td>\n",
       "      <td>1580.0</td>\n",
       "      <td>CHEMBL253</td>\n",
       "      <td>Homo sapiens</td>\n",
       "      <td>Ki</td>\n",
       "    </tr>\n",
       "    <tr>\n",
       "      <th>4</th>\n",
       "      <td>155015</td>\n",
       "      <td>CHEMBL658954</td>\n",
       "      <td>Binding affinity against G protein coupled hum...</td>\n",
       "      <td>B</td>\n",
       "      <td>CHEMBL39335</td>\n",
       "      <td>=</td>\n",
       "      <td>nM</td>\n",
       "      <td>400.0</td>\n",
       "      <td>CHEMBL253</td>\n",
       "      <td>Homo sapiens</td>\n",
       "      <td>Ki</td>\n",
       "    </tr>\n",
       "  </tbody>\n",
       "</table>\n",
       "</div>"
      ],
      "text/plain": [
       "   activity_id assay_chembl_id  \\\n",
       "0        39992    CHEMBL659744   \n",
       "1        42366    CHEMBL659744   \n",
       "2        59905    CHEMBL659744   \n",
       "3        64002    CHEMBL659744   \n",
       "4       155015    CHEMBL658954   \n",
       "\n",
       "                                   assay_description assay_type  \\\n",
       "0  Affinity to displace CP-55940 binding from Can...          B   \n",
       "1  Affinity to displace CP-55940 binding from Can...          B   \n",
       "2  Affinity to displace CP-55940 binding from Can...          B   \n",
       "3  Affinity to displace CP-55940 binding from Can...          B   \n",
       "4  Binding affinity against G protein coupled hum...          B   \n",
       "\n",
       "  molecule_chembl_id relation standard_units  standard_value target_chembl_id  \\\n",
       "0       CHEMBL412262        =             nM          7943.0        CHEMBL253   \n",
       "1       CHEMBL156264        =             nM          3515.0        CHEMBL253   \n",
       "2       CHEMBL350924        =             nM          1000.0        CHEMBL253   \n",
       "3          CHEMBL111        =             nM          1580.0        CHEMBL253   \n",
       "4        CHEMBL39335        =             nM           400.0        CHEMBL253   \n",
       "\n",
       "  target_organism type  \n",
       "0    Homo sapiens   Ki  \n",
       "1    Homo sapiens   Ki  \n",
       "2    Homo sapiens   Ki  \n",
       "3    Homo sapiens   Ki  \n",
       "4    Homo sapiens   Ki  "
      ]
     },
     "execution_count": 59,
     "metadata": {},
     "output_type": "execute_result"
    }
   ],
   "source": [
    "#reset index\n",
    "\n",
    "bioactivities_df.reset_index(drop=True, inplace=True)\n",
    "bioactivities_df.head()"
   ]
  },
  {
   "cell_type": "code",
   "execution_count": 60,
   "id": "56c4de63",
   "metadata": {},
   "outputs": [
    {
     "data": {
      "text/html": [
       "<div>\n",
       "<style scoped>\n",
       "    .dataframe tbody tr th:only-of-type {\n",
       "        vertical-align: middle;\n",
       "    }\n",
       "\n",
       "    .dataframe tbody tr th {\n",
       "        vertical-align: top;\n",
       "    }\n",
       "\n",
       "    .dataframe thead th {\n",
       "        text-align: right;\n",
       "    }\n",
       "</style>\n",
       "<table border=\"1\" class=\"dataframe\">\n",
       "  <thead>\n",
       "    <tr style=\"text-align: right;\">\n",
       "      <th></th>\n",
       "      <th>activity_id</th>\n",
       "      <th>assay_chembl_id</th>\n",
       "      <th>assay_description</th>\n",
       "      <th>assay_type</th>\n",
       "      <th>molecule_chembl_id</th>\n",
       "      <th>relation</th>\n",
       "      <th>units</th>\n",
       "      <th>Ki</th>\n",
       "      <th>target_chembl_id</th>\n",
       "      <th>target_organism</th>\n",
       "      <th>type</th>\n",
       "    </tr>\n",
       "  </thead>\n",
       "  <tbody>\n",
       "    <tr>\n",
       "      <th>0</th>\n",
       "      <td>39992</td>\n",
       "      <td>CHEMBL659744</td>\n",
       "      <td>Affinity to displace CP-55940 binding from Can...</td>\n",
       "      <td>B</td>\n",
       "      <td>CHEMBL412262</td>\n",
       "      <td>=</td>\n",
       "      <td>nM</td>\n",
       "      <td>7943.0</td>\n",
       "      <td>CHEMBL253</td>\n",
       "      <td>Homo sapiens</td>\n",
       "      <td>Ki</td>\n",
       "    </tr>\n",
       "    <tr>\n",
       "      <th>1</th>\n",
       "      <td>42366</td>\n",
       "      <td>CHEMBL659744</td>\n",
       "      <td>Affinity to displace CP-55940 binding from Can...</td>\n",
       "      <td>B</td>\n",
       "      <td>CHEMBL156264</td>\n",
       "      <td>=</td>\n",
       "      <td>nM</td>\n",
       "      <td>3515.0</td>\n",
       "      <td>CHEMBL253</td>\n",
       "      <td>Homo sapiens</td>\n",
       "      <td>Ki</td>\n",
       "    </tr>\n",
       "    <tr>\n",
       "      <th>2</th>\n",
       "      <td>59905</td>\n",
       "      <td>CHEMBL659744</td>\n",
       "      <td>Affinity to displace CP-55940 binding from Can...</td>\n",
       "      <td>B</td>\n",
       "      <td>CHEMBL350924</td>\n",
       "      <td>=</td>\n",
       "      <td>nM</td>\n",
       "      <td>1000.0</td>\n",
       "      <td>CHEMBL253</td>\n",
       "      <td>Homo sapiens</td>\n",
       "      <td>Ki</td>\n",
       "    </tr>\n",
       "    <tr>\n",
       "      <th>3</th>\n",
       "      <td>64002</td>\n",
       "      <td>CHEMBL659744</td>\n",
       "      <td>Affinity to displace CP-55940 binding from Can...</td>\n",
       "      <td>B</td>\n",
       "      <td>CHEMBL111</td>\n",
       "      <td>=</td>\n",
       "      <td>nM</td>\n",
       "      <td>1580.0</td>\n",
       "      <td>CHEMBL253</td>\n",
       "      <td>Homo sapiens</td>\n",
       "      <td>Ki</td>\n",
       "    </tr>\n",
       "    <tr>\n",
       "      <th>4</th>\n",
       "      <td>155015</td>\n",
       "      <td>CHEMBL658954</td>\n",
       "      <td>Binding affinity against G protein coupled hum...</td>\n",
       "      <td>B</td>\n",
       "      <td>CHEMBL39335</td>\n",
       "      <td>=</td>\n",
       "      <td>nM</td>\n",
       "      <td>400.0</td>\n",
       "      <td>CHEMBL253</td>\n",
       "      <td>Homo sapiens</td>\n",
       "      <td>Ki</td>\n",
       "    </tr>\n",
       "  </tbody>\n",
       "</table>\n",
       "</div>"
      ],
      "text/plain": [
       "   activity_id assay_chembl_id  \\\n",
       "0        39992    CHEMBL659744   \n",
       "1        42366    CHEMBL659744   \n",
       "2        59905    CHEMBL659744   \n",
       "3        64002    CHEMBL659744   \n",
       "4       155015    CHEMBL658954   \n",
       "\n",
       "                                   assay_description assay_type  \\\n",
       "0  Affinity to displace CP-55940 binding from Can...          B   \n",
       "1  Affinity to displace CP-55940 binding from Can...          B   \n",
       "2  Affinity to displace CP-55940 binding from Can...          B   \n",
       "3  Affinity to displace CP-55940 binding from Can...          B   \n",
       "4  Binding affinity against G protein coupled hum...          B   \n",
       "\n",
       "  molecule_chembl_id relation units      Ki target_chembl_id target_organism  \\\n",
       "0       CHEMBL412262        =    nM  7943.0        CHEMBL253    Homo sapiens   \n",
       "1       CHEMBL156264        =    nM  3515.0        CHEMBL253    Homo sapiens   \n",
       "2       CHEMBL350924        =    nM  1000.0        CHEMBL253    Homo sapiens   \n",
       "3          CHEMBL111        =    nM  1580.0        CHEMBL253    Homo sapiens   \n",
       "4        CHEMBL39335        =    nM   400.0        CHEMBL253    Homo sapiens   \n",
       "\n",
       "  type  \n",
       "0   Ki  \n",
       "1   Ki  \n",
       "2   Ki  \n",
       "3   Ki  \n",
       "4   Ki  "
      ]
     },
     "execution_count": 60,
     "metadata": {},
     "output_type": "execute_result"
    }
   ],
   "source": [
    "#Rename columns\n",
    "\n",
    "bioactivities_df.rename(\n",
    "    columns={\"standard_value\": \"Ki\", \"standard_units\": \"units\"}, inplace=True\n",
    ")\n",
    "bioactivities_df.head()"
   ]
  },
  {
   "cell_type": "code",
   "execution_count": 61,
   "id": "f7af7bcf",
   "metadata": {},
   "outputs": [
    {
     "name": "stdout",
     "output_type": "stream",
     "text": [
      "DataFrame shape: (3641, 11)\n"
     ]
    }
   ],
   "source": [
    "print(f\"DataFrame shape: {bioactivities_df.shape}\")"
   ]
  },
  {
   "cell_type": "markdown",
   "id": "8eeb06ec",
   "metadata": {},
   "source": [
    "## Getting coumpound data"
   ]
  },
  {
   "cell_type": "code",
   "execution_count": 62,
   "id": "be50e8cb",
   "metadata": {},
   "outputs": [],
   "source": [
    "compounds_provider = compounds_api.filter(\n",
    "    molecule_chembl_id__in=list(bioactivities_df[\"molecule_chembl_id\"])\n",
    ").only(\"molecule_chembl_id\", \"molecule_structures\")"
   ]
  },
  {
   "cell_type": "code",
   "execution_count": 63,
   "id": "522a40c3",
   "metadata": {},
   "outputs": [
    {
     "data": {
      "application/vnd.jupyter.widget-view+json": {
       "model_id": "7dae1888a32d4cdd8c6f1993b8ecacda",
       "version_major": 2,
       "version_minor": 0
      },
      "text/plain": [
       "  0%|          | 0/3641 [00:00<?, ?it/s]"
      ]
     },
     "metadata": {},
     "output_type": "display_data"
    }
   ],
   "source": [
    "compounds = list(tqdm(compounds_provider))"
   ]
  },
  {
   "cell_type": "code",
   "execution_count": 65,
   "id": "475924b9",
   "metadata": {},
   "outputs": [
    {
     "name": "stdout",
     "output_type": "stream",
     "text": [
      "DataFrame shape: (3641, 2)\n"
     ]
    }
   ],
   "source": [
    "compounds_df = pd.DataFrame.from_records(\n",
    "    compounds,\n",
    ")\n",
    "print(f\"DataFrame shape: {compounds_df.shape}\")"
   ]
  },
  {
   "cell_type": "code",
   "execution_count": 66,
   "id": "1ce77e15",
   "metadata": {},
   "outputs": [
    {
     "data": {
      "text/html": [
       "<div>\n",
       "<style scoped>\n",
       "    .dataframe tbody tr th:only-of-type {\n",
       "        vertical-align: middle;\n",
       "    }\n",
       "\n",
       "    .dataframe tbody tr th {\n",
       "        vertical-align: top;\n",
       "    }\n",
       "\n",
       "    .dataframe thead th {\n",
       "        text-align: right;\n",
       "    }\n",
       "</style>\n",
       "<table border=\"1\" class=\"dataframe\">\n",
       "  <thead>\n",
       "    <tr style=\"text-align: right;\">\n",
       "      <th></th>\n",
       "      <th>molecule_chembl_id</th>\n",
       "      <th>molecule_structures</th>\n",
       "    </tr>\n",
       "  </thead>\n",
       "  <tbody>\n",
       "    <tr>\n",
       "      <th>0</th>\n",
       "      <td>CHEMBL465</td>\n",
       "      <td>{'canonical_smiles': 'CCCCCc1cc(O)c2c(c1)OC(C)...</td>\n",
       "    </tr>\n",
       "    <tr>\n",
       "      <th>1</th>\n",
       "      <td>CHEMBL267227</td>\n",
       "      <td>{'canonical_smiles': 'CCCCCc1cc(O)c2c(c1)OC(C)...</td>\n",
       "    </tr>\n",
       "    <tr>\n",
       "      <th>2</th>\n",
       "      <td>CHEMBL274833</td>\n",
       "      <td>{'canonical_smiles': 'Cc1c(C(=O)c2cccc3ccccc23...</td>\n",
       "    </tr>\n",
       "    <tr>\n",
       "      <th>3</th>\n",
       "      <td>CHEMBL111</td>\n",
       "      <td>{'canonical_smiles': 'Cc1c(C(=O)NN2CCCCC2)nn(-...</td>\n",
       "    </tr>\n",
       "    <tr>\n",
       "      <th>4</th>\n",
       "      <td>CHEMBL15848</td>\n",
       "      <td>{'canonical_smiles': 'CCCCC/C=C\\C/C=C\\C/C=C\\C/...</td>\n",
       "    </tr>\n",
       "  </tbody>\n",
       "</table>\n",
       "</div>"
      ],
      "text/plain": [
       "  molecule_chembl_id                                molecule_structures\n",
       "0          CHEMBL465  {'canonical_smiles': 'CCCCCc1cc(O)c2c(c1)OC(C)...\n",
       "1       CHEMBL267227  {'canonical_smiles': 'CCCCCc1cc(O)c2c(c1)OC(C)...\n",
       "2       CHEMBL274833  {'canonical_smiles': 'Cc1c(C(=O)c2cccc3ccccc23...\n",
       "3          CHEMBL111  {'canonical_smiles': 'Cc1c(C(=O)NN2CCCCC2)nn(-...\n",
       "4        CHEMBL15848  {'canonical_smiles': 'CCCCC/C=C\\C/C=C\\C/C=C\\C/..."
      ]
     },
     "execution_count": 66,
     "metadata": {},
     "output_type": "execute_result"
    }
   ],
   "source": [
    "compounds_df.head()"
   ]
  },
  {
   "cell_type": "code",
   "execution_count": 67,
   "id": "a56e483c",
   "metadata": {},
   "outputs": [
    {
     "name": "stdout",
     "output_type": "stream",
     "text": [
      "DataFrame shape: (3641, 2)\n"
     ]
    }
   ],
   "source": [
    "#dropping na\n",
    "\n",
    "compounds_df.dropna(axis=0, how=\"any\", inplace=True)\n",
    "print(f\"DataFrame shape: {compounds_df.shape}\")"
   ]
  },
  {
   "cell_type": "code",
   "execution_count": 68,
   "id": "6739260b",
   "metadata": {},
   "outputs": [
    {
     "name": "stdout",
     "output_type": "stream",
     "text": [
      "DataFrame shape: (3641, 2)\n"
     ]
    }
   ],
   "source": [
    "#dropping duplicates\n",
    "\n",
    "compounds_df.drop_duplicates(\"molecule_chembl_id\", keep=\"first\", inplace=True)\n",
    "print(f\"DataFrame shape: {compounds_df.shape}\")"
   ]
  },
  {
   "cell_type": "code",
   "execution_count": 69,
   "id": "f8ddd13d",
   "metadata": {},
   "outputs": [
    {
     "data": {
      "text/plain": [
       "dict_keys(['canonical_smiles', 'molfile', 'standard_inchi', 'standard_inchi_key'])"
      ]
     },
     "execution_count": 69,
     "metadata": {},
     "output_type": "execute_result"
    }
   ],
   "source": [
    "#checking molecule_structures keys\n",
    "\n",
    "compounds_df.iloc[0].molecule_structures.keys()"
   ]
  },
  {
   "cell_type": "code",
   "execution_count": 71,
   "id": "70c88a06",
   "metadata": {},
   "outputs": [
    {
     "name": "stdout",
     "output_type": "stream",
     "text": [
      "DataFrame shape: (3641, 2)\n"
     ]
    }
   ],
   "source": [
    "#saving only the SMILES\n",
    "\n",
    "canonical_smiles = []\n",
    "\n",
    "for i, compounds in compounds_df.iterrows():\n",
    "    try:\n",
    "        canonical_smiles.append(compounds[\"molecule_structures\"][\"canonical_smiles\"])\n",
    "    except KeyError:\n",
    "        canonical_smiles.append(None)\n",
    "\n",
    "compounds_df[\"smiles\"] = canonical_smiles\n",
    "compounds_df.drop(\"molecule_structures\", axis=1, inplace=True)\n",
    "print(f\"DataFrame shape: {compounds_df.shape}\")"
   ]
  },
  {
   "cell_type": "markdown",
   "id": "cb2bd775",
   "metadata": {},
   "source": [
    "## Output"
   ]
  },
  {
   "cell_type": "code",
   "execution_count": 73,
   "id": "fdd3981a",
   "metadata": {},
   "outputs": [
    {
     "name": "stdout",
     "output_type": "stream",
     "text": [
      "Dataset with 3641 entries.\n"
     ]
    }
   ],
   "source": [
    "# Merge DataFrames\n",
    "output_df = pd.merge(\n",
    "    bioactivities_df[[\"molecule_chembl_id\", \"Ki\", \"units\"]],\n",
    "    compounds_df,\n",
    "    on=\"molecule_chembl_id\",\n",
    ")\n",
    "\n",
    "# Reset row indices\n",
    "output_df.reset_index(drop=True, inplace=True)\n",
    "\n",
    "print(f\"Dataset with {output_df.shape[0]} entries.\")"
   ]
  },
  {
   "cell_type": "code",
   "execution_count": 74,
   "id": "9d75581f",
   "metadata": {},
   "outputs": [
    {
     "data": {
      "text/plain": [
       "molecule_chembl_id     object\n",
       "Ki                    float64\n",
       "units                  object\n",
       "smiles                 object\n",
       "dtype: object"
      ]
     },
     "execution_count": 74,
     "metadata": {},
     "output_type": "execute_result"
    }
   ],
   "source": [
    "output_df.dtypes"
   ]
  },
  {
   "cell_type": "code",
   "execution_count": 75,
   "id": "102aacf8",
   "metadata": {},
   "outputs": [
    {
     "data": {
      "text/html": [
       "<div>\n",
       "<style scoped>\n",
       "    .dataframe tbody tr th:only-of-type {\n",
       "        vertical-align: middle;\n",
       "    }\n",
       "\n",
       "    .dataframe tbody tr th {\n",
       "        vertical-align: top;\n",
       "    }\n",
       "\n",
       "    .dataframe thead th {\n",
       "        text-align: right;\n",
       "    }\n",
       "</style>\n",
       "<table border=\"1\" class=\"dataframe\">\n",
       "  <thead>\n",
       "    <tr style=\"text-align: right;\">\n",
       "      <th></th>\n",
       "      <th>molecule_chembl_id</th>\n",
       "      <th>Ki</th>\n",
       "      <th>units</th>\n",
       "      <th>smiles</th>\n",
       "    </tr>\n",
       "  </thead>\n",
       "  <tbody>\n",
       "    <tr>\n",
       "      <th>0</th>\n",
       "      <td>CHEMBL412262</td>\n",
       "      <td>7943.0</td>\n",
       "      <td>nM</td>\n",
       "      <td>CN/C(=N\\S(=O)(=O)c1ccc(Cl)cc1)N1C[C@H](c2ccccc...</td>\n",
       "    </tr>\n",
       "    <tr>\n",
       "      <th>1</th>\n",
       "      <td>CHEMBL156264</td>\n",
       "      <td>3515.0</td>\n",
       "      <td>nM</td>\n",
       "      <td>C/N=C(\\NS(=O)(=O)c1ccc(C(F)(F)F)cc1)N1C[C@H](c...</td>\n",
       "    </tr>\n",
       "    <tr>\n",
       "      <th>2</th>\n",
       "      <td>CHEMBL350924</td>\n",
       "      <td>1000.0</td>\n",
       "      <td>nM</td>\n",
       "      <td>CS/C(=N\\S(=O)(=O)c1ccc(C(F)(F)F)cc1)N1CC(c2ccc...</td>\n",
       "    </tr>\n",
       "    <tr>\n",
       "      <th>3</th>\n",
       "      <td>CHEMBL111</td>\n",
       "      <td>1580.0</td>\n",
       "      <td>nM</td>\n",
       "      <td>Cc1c(C(=O)NN2CCCCC2)nn(-c2ccc(Cl)cc2Cl)c1-c1cc...</td>\n",
       "    </tr>\n",
       "    <tr>\n",
       "      <th>4</th>\n",
       "      <td>CHEMBL39335</td>\n",
       "      <td>400.0</td>\n",
       "      <td>nM</td>\n",
       "      <td>CCCCC/C=C\\C/C=C\\C/C=C\\C/C=C\\CCCC(=O)NCCc1ccoc1</td>\n",
       "    </tr>\n",
       "    <tr>\n",
       "      <th>5</th>\n",
       "      <td>CHEMBL434778</td>\n",
       "      <td>67.0</td>\n",
       "      <td>nM</td>\n",
       "      <td>CCCCC/C=C\\C/C=C\\C/C=C\\C/C=C\\CCCC(=O)NCc1ccoc1</td>\n",
       "    </tr>\n",
       "    <tr>\n",
       "      <th>6</th>\n",
       "      <td>CHEMBL417158</td>\n",
       "      <td>70.0</td>\n",
       "      <td>nM</td>\n",
       "      <td>CCCCC/C=C\\C/C=C\\C/C=C\\C/C=C\\CCCC(=O)NCc1cccn1C</td>\n",
       "    </tr>\n",
       "    <tr>\n",
       "      <th>7</th>\n",
       "      <td>CHEMBL188</td>\n",
       "      <td>0.3</td>\n",
       "      <td>nM</td>\n",
       "      <td>Cc1c(C(=O)c2cccc3ccccc23)c2cccc3c2n1[C@H](CN1C...</td>\n",
       "    </tr>\n",
       "    <tr>\n",
       "      <th>8</th>\n",
       "      <td>CHEMBL63365</td>\n",
       "      <td>77.0</td>\n",
       "      <td>nM</td>\n",
       "      <td>COc1ccccc1CNC(=O)c1nn(CCN2CCOCC2)c2c(OC)cccc12</td>\n",
       "    </tr>\n",
       "    <tr>\n",
       "      <th>9</th>\n",
       "      <td>CHEMBL66956</td>\n",
       "      <td>146.0</td>\n",
       "      <td>nM</td>\n",
       "      <td>COc1cccc2c(C(=O)NC(c3ccccc3)c3ccccn3)nn(CCN3CC...</td>\n",
       "    </tr>\n",
       "  </tbody>\n",
       "</table>\n",
       "</div>"
      ],
      "text/plain": [
       "  molecule_chembl_id      Ki units  \\\n",
       "0       CHEMBL412262  7943.0    nM   \n",
       "1       CHEMBL156264  3515.0    nM   \n",
       "2       CHEMBL350924  1000.0    nM   \n",
       "3          CHEMBL111  1580.0    nM   \n",
       "4        CHEMBL39335   400.0    nM   \n",
       "5       CHEMBL434778    67.0    nM   \n",
       "6       CHEMBL417158    70.0    nM   \n",
       "7          CHEMBL188     0.3    nM   \n",
       "8        CHEMBL63365    77.0    nM   \n",
       "9        CHEMBL66956   146.0    nM   \n",
       "\n",
       "                                              smiles  \n",
       "0  CN/C(=N\\S(=O)(=O)c1ccc(Cl)cc1)N1C[C@H](c2ccccc...  \n",
       "1  C/N=C(\\NS(=O)(=O)c1ccc(C(F)(F)F)cc1)N1C[C@H](c...  \n",
       "2  CS/C(=N\\S(=O)(=O)c1ccc(C(F)(F)F)cc1)N1CC(c2ccc...  \n",
       "3  Cc1c(C(=O)NN2CCCCC2)nn(-c2ccc(Cl)cc2Cl)c1-c1cc...  \n",
       "4     CCCCC/C=C\\C/C=C\\C/C=C\\C/C=C\\CCCC(=O)NCCc1ccoc1  \n",
       "5      CCCCC/C=C\\C/C=C\\C/C=C\\C/C=C\\CCCC(=O)NCc1ccoc1  \n",
       "6     CCCCC/C=C\\C/C=C\\C/C=C\\C/C=C\\CCCC(=O)NCc1cccn1C  \n",
       "7  Cc1c(C(=O)c2cccc3ccccc23)c2cccc3c2n1[C@H](CN1C...  \n",
       "8     COc1ccccc1CNC(=O)c1nn(CCN2CCOCC2)c2c(OC)cccc12  \n",
       "9  COc1cccc2c(C(=O)NC(c3ccccc3)c3ccccn3)nn(CCN3CC...  "
      ]
     },
     "execution_count": 75,
     "metadata": {},
     "output_type": "execute_result"
    }
   ],
   "source": [
    "output_df.head(10)"
   ]
  },
  {
   "cell_type": "markdown",
   "id": "8d94ef10",
   "metadata": {},
   "source": [
    "## pKi"
   ]
  },
  {
   "cell_type": "code",
   "execution_count": 76,
   "id": "c808956b",
   "metadata": {},
   "outputs": [],
   "source": [
    "def convert_ki_to_pki(Ki_value):\n",
    "    pKi_value = 9 - math.log10(Ki_value)\n",
    "    return pKi_value"
   ]
  },
  {
   "cell_type": "code",
   "execution_count": 77,
   "id": "f2bfa131",
   "metadata": {},
   "outputs": [],
   "source": [
    "# Apply conversion to each row of the compounds DataFrame\n",
    "output_df[\"pKi\"] = output_df.apply(lambda x: convert_ki_to_pki(x.Ki), axis=1)"
   ]
  },
  {
   "cell_type": "code",
   "execution_count": 78,
   "id": "2b3608f7",
   "metadata": {},
   "outputs": [
    {
     "data": {
      "text/html": [
       "<div>\n",
       "<style scoped>\n",
       "    .dataframe tbody tr th:only-of-type {\n",
       "        vertical-align: middle;\n",
       "    }\n",
       "\n",
       "    .dataframe tbody tr th {\n",
       "        vertical-align: top;\n",
       "    }\n",
       "\n",
       "    .dataframe thead th {\n",
       "        text-align: right;\n",
       "    }\n",
       "</style>\n",
       "<table border=\"1\" class=\"dataframe\">\n",
       "  <thead>\n",
       "    <tr style=\"text-align: right;\">\n",
       "      <th></th>\n",
       "      <th>molecule_chembl_id</th>\n",
       "      <th>Ki</th>\n",
       "      <th>units</th>\n",
       "      <th>smiles</th>\n",
       "      <th>pKi</th>\n",
       "    </tr>\n",
       "  </thead>\n",
       "  <tbody>\n",
       "    <tr>\n",
       "      <th>0</th>\n",
       "      <td>CHEMBL412262</td>\n",
       "      <td>7943.0</td>\n",
       "      <td>nM</td>\n",
       "      <td>CN/C(=N\\S(=O)(=O)c1ccc(Cl)cc1)N1C[C@H](c2ccccc...</td>\n",
       "      <td>5.100015</td>\n",
       "    </tr>\n",
       "    <tr>\n",
       "      <th>1</th>\n",
       "      <td>CHEMBL156264</td>\n",
       "      <td>3515.0</td>\n",
       "      <td>nM</td>\n",
       "      <td>C/N=C(\\NS(=O)(=O)c1ccc(C(F)(F)F)cc1)N1C[C@H](c...</td>\n",
       "      <td>5.454075</td>\n",
       "    </tr>\n",
       "    <tr>\n",
       "      <th>2</th>\n",
       "      <td>CHEMBL350924</td>\n",
       "      <td>1000.0</td>\n",
       "      <td>nM</td>\n",
       "      <td>CS/C(=N\\S(=O)(=O)c1ccc(C(F)(F)F)cc1)N1CC(c2ccc...</td>\n",
       "      <td>6.000000</td>\n",
       "    </tr>\n",
       "    <tr>\n",
       "      <th>3</th>\n",
       "      <td>CHEMBL111</td>\n",
       "      <td>1580.0</td>\n",
       "      <td>nM</td>\n",
       "      <td>Cc1c(C(=O)NN2CCCCC2)nn(-c2ccc(Cl)cc2Cl)c1-c1cc...</td>\n",
       "      <td>5.801343</td>\n",
       "    </tr>\n",
       "    <tr>\n",
       "      <th>4</th>\n",
       "      <td>CHEMBL39335</td>\n",
       "      <td>400.0</td>\n",
       "      <td>nM</td>\n",
       "      <td>CCCCC/C=C\\C/C=C\\C/C=C\\C/C=C\\CCCC(=O)NCCc1ccoc1</td>\n",
       "      <td>6.397940</td>\n",
       "    </tr>\n",
       "  </tbody>\n",
       "</table>\n",
       "</div>"
      ],
      "text/plain": [
       "  molecule_chembl_id      Ki units  \\\n",
       "0       CHEMBL412262  7943.0    nM   \n",
       "1       CHEMBL156264  3515.0    nM   \n",
       "2       CHEMBL350924  1000.0    nM   \n",
       "3          CHEMBL111  1580.0    nM   \n",
       "4        CHEMBL39335   400.0    nM   \n",
       "\n",
       "                                              smiles       pKi  \n",
       "0  CN/C(=N\\S(=O)(=O)c1ccc(Cl)cc1)N1C[C@H](c2ccccc...  5.100015  \n",
       "1  C/N=C(\\NS(=O)(=O)c1ccc(C(F)(F)F)cc1)N1C[C@H](c...  5.454075  \n",
       "2  CS/C(=N\\S(=O)(=O)c1ccc(C(F)(F)F)cc1)N1CC(c2ccc...  6.000000  \n",
       "3  Cc1c(C(=O)NN2CCCCC2)nn(-c2ccc(Cl)cc2Cl)c1-c1cc...  5.801343  \n",
       "4     CCCCC/C=C\\C/C=C\\C/C=C\\C/C=C\\CCCC(=O)NCCc1ccoc1  6.397940  "
      ]
     },
     "execution_count": 78,
     "metadata": {},
     "output_type": "execute_result"
    }
   ],
   "source": [
    "output_df.head()"
   ]
  },
  {
   "cell_type": "markdown",
   "id": "e523709a",
   "metadata": {},
   "source": [
    "## pKi histogram"
   ]
  },
  {
   "cell_type": "code",
   "execution_count": 81,
   "id": "4fa014bd",
   "metadata": {},
   "outputs": [
    {
     "data": {
      "text/plain": [
       "array([[<AxesSubplot:title={'center':'pKi'}>]], dtype=object)"
      ]
     },
     "execution_count": 81,
     "metadata": {},
     "output_type": "execute_result"
    },
    {
     "data": {
      "image/png": "[encoded data removed]",
      "text/plain": [
       "<Figure size 432x288 with 1 Axes>"
      ]
     },
     "metadata": {
      "needs_background": "light"
     },
     "output_type": "display_data"
    }
   ],
   "source": [
    "output_df.hist(column=\"pKi\")"
   ]
  },
  {
   "cell_type": "markdown",
   "id": "e97d8c80",
   "metadata": {},
   "source": [
    "## Checking the molecules with highest pKi"
   ]
  },
  {
   "cell_type": "code",
   "execution_count": 84,
   "id": "567e6dee",
   "metadata": {},
   "outputs": [],
   "source": [
    "# Add molecule column\n",
    "PandasTools.AddMoleculeColumnToFrame(output_df, smilesCol=\"smiles\")"
   ]
  },
  {
   "cell_type": "code",
   "execution_count": 85,
   "id": "d9e4a476",
   "metadata": {},
   "outputs": [],
   "source": [
    "# Sort molecules by pIC50\n",
    "output_df.sort_values(by=\"pKi\", ascending=False, inplace=True)\n",
    "\n",
    "# Reset index\n",
    "output_df.reset_index(drop=True, inplace=True)"
   ]
  },
  {
   "cell_type": "code",
   "execution_count": 86,
   "id": "b85036b9",
   "metadata": {},
   "outputs": [
    {
     "data": {
      "text/html": [
       "<div>\n",
       "<style scoped>\n",
       "    .dataframe tbody tr th:only-of-type {\n",
       "        vertical-align: middle;\n",
       "    }\n",
       "\n",
       "    .dataframe tbody tr th {\n",
       "        vertical-align: top;\n",
       "    }\n",
       "\n",
       "    .dataframe thead th {\n",
       "        text-align: right;\n",
       "    }\n",
       "</style>\n",
       "<table border=\"1\" class=\"dataframe\">\n",
       "  <thead>\n",
       "    <tr style=\"text-align: right;\">\n",
       "      <th></th>\n",
       "      <th>molecule_chembl_id</th>\n",
       "      <th>Ki</th>\n",
       "      <th>units</th>\n",
       "      <th>pKi</th>\n",
       "      <th>ROMol</th>\n",
       "    </tr>\n",
       "  </thead>\n",
       "  <tbody>\n",
       "    <tr>\n",
       "      <th>0</th>\n",
       "      <td>CHEMBL1822945</td>\n",
       "      <td>0.010</td>\n",
       "      <td>nM</td>\n",
       "      <td>11.000000</td>\n",
       "      <td style=\"text-align: center;\"><img data-content=\"rdkit/molecule\" src=\"data:image/png;base64,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\" alt=\"Mol\"/></td>\n",
       "    </tr>\n",
       "    <tr>\n",
       "      <th>1</th>\n",
       "      <td>CHEMBL1822939</td>\n",
       "      <td>0.014</td>\n",
       "      <td>nM</td>\n",
       "      <td>10.853872</td>\n",
       "      <td style=\"text-align: center;\"><img data-content=\"rdkit/molecule\" src=\"data:image/png;base64,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\" alt=\"Mol\"/></td>\n",
       "    </tr>\n",
       "    <tr>\n",
       "      <th>2</th>\n",
       "      <td>CHEMBL1822944</td>\n",
       "      <td>0.020</td>\n",
       "      <td>nM</td>\n",
       "      <td>10.698970</td>\n",
       "      <td style=\"text-align: center;\"><img data-content=\"rdkit/molecule\" src=\"data:image/png;base64,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\" alt=\"Mol\"/></td>\n",
       "    </tr>\n",
       "  </tbody>\n",
       "</table>\n",
       "</div>"
      ],
      "text/plain": [
       "  molecule_chembl_id     Ki units        pKi  \\\n",
       "0      CHEMBL1822945  0.010    nM  11.000000   \n",
       "1      CHEMBL1822939  0.014    nM  10.853872   \n",
       "2      CHEMBL1822944  0.020    nM  10.698970   \n",
       "\n",
       "                                               ROMol  \n",
       "0  <img data-content=\"rdkit/molecule\" src=\"data:i...  \n",
       "1  <img data-content=\"rdkit/molecule\" src=\"data:i...  \n",
       "2  <img data-content=\"rdkit/molecule\" src=\"data:i...  "
      ]
     },
     "execution_count": 86,
     "metadata": {},
     "output_type": "execute_result"
    }
   ],
   "source": [
    "output_df.drop(\"smiles\", axis=1).head(3)"
   ]
  },
  {
   "cell_type": "markdown",
   "id": "b8acd201",
   "metadata": {},
   "source": [
    "## Preparing for Output"
   ]
  },
  {
   "cell_type": "code",
   "execution_count": 87,
   "id": "86a3d6c4",
   "metadata": {},
   "outputs": [
    {
     "name": "stdout",
     "output_type": "stream",
     "text": [
      "DataFrame shape: (3641, 5)\n"
     ]
    }
   ],
   "source": [
    "# Prepare saving the dataset: Drop the ROMol column\n",
    "output_df = output_df.drop(\"ROMol\", axis=1)\n",
    "print(f\"DataFrame shape: {output_df.shape}\")"
   ]
  },
  {
   "cell_type": "code",
   "execution_count": 92,
   "id": "e4e166a5",
   "metadata": {},
   "outputs": [
    {
     "data": {
      "text/html": [
       "<div>\n",
       "<style scoped>\n",
       "    .dataframe tbody tr th:only-of-type {\n",
       "        vertical-align: middle;\n",
       "    }\n",
       "\n",
       "    .dataframe tbody tr th {\n",
       "        vertical-align: top;\n",
       "    }\n",
       "\n",
       "    .dataframe thead th {\n",
       "        text-align: right;\n",
       "    }\n",
       "</style>\n",
       "<table border=\"1\" class=\"dataframe\">\n",
       "  <thead>\n",
       "    <tr style=\"text-align: right;\">\n",
       "      <th></th>\n",
       "      <th>molecule_chembl_id</th>\n",
       "      <th>Ki</th>\n",
       "      <th>units</th>\n",
       "      <th>smiles</th>\n",
       "      <th>pKi</th>\n",
       "    </tr>\n",
       "  </thead>\n",
       "  <tbody>\n",
       "    <tr>\n",
       "      <th>0</th>\n",
       "      <td>CHEMBL1822945</td>\n",
       "      <td>0.010</td>\n",
       "      <td>nM</td>\n",
       "      <td>CCCCCOc1c(OC)ccc2cc(C(=O)NCCc3ccncc3)c(=O)[nH]c12</td>\n",
       "      <td>11.000000</td>\n",
       "    </tr>\n",
       "    <tr>\n",
       "      <th>1</th>\n",
       "      <td>CHEMBL1822939</td>\n",
       "      <td>0.014</td>\n",
       "      <td>nM</td>\n",
       "      <td>CCCCCc1cc2cc(C(=O)OC)c(=O)[nH]c2c(O)c1OC</td>\n",
       "      <td>10.853872</td>\n",
       "    </tr>\n",
       "    <tr>\n",
       "      <th>2</th>\n",
       "      <td>CHEMBL1822944</td>\n",
       "      <td>0.020</td>\n",
       "      <td>nM</td>\n",
       "      <td>CCOc1c(OC)ccc2cc(C(=O)NCCc3ccncc3)c(=O)[nH]c12</td>\n",
       "      <td>10.698970</td>\n",
       "    </tr>\n",
       "    <tr>\n",
       "      <th>3</th>\n",
       "      <td>CHEMBL3410832</td>\n",
       "      <td>0.021</td>\n",
       "      <td>nM</td>\n",
       "      <td>CCCCCOc1c(OC)ccc2cc(C(=O)NCCc3ccc(F)cc3)c(=O)n...</td>\n",
       "      <td>10.677781</td>\n",
       "    </tr>\n",
       "    <tr>\n",
       "      <th>4</th>\n",
       "      <td>CHEMBL1822940</td>\n",
       "      <td>0.021</td>\n",
       "      <td>nM</td>\n",
       "      <td>CCCOc1c(OC)ccc2cc(C(=O)NCCc3ccc(F)cc3)c(=O)[nH...</td>\n",
       "      <td>10.677781</td>\n",
       "    </tr>\n",
       "  </tbody>\n",
       "</table>\n",
       "</div>"
      ],
      "text/plain": [
       "  molecule_chembl_id     Ki units  \\\n",
       "0      CHEMBL1822945  0.010    nM   \n",
       "1      CHEMBL1822939  0.014    nM   \n",
       "2      CHEMBL1822944  0.020    nM   \n",
       "3      CHEMBL3410832  0.021    nM   \n",
       "4      CHEMBL1822940  0.021    nM   \n",
       "\n",
       "                                              smiles        pKi  \n",
       "0  CCCCCOc1c(OC)ccc2cc(C(=O)NCCc3ccncc3)c(=O)[nH]c12  11.000000  \n",
       "1           CCCCCc1cc2cc(C(=O)OC)c(=O)[nH]c2c(O)c1OC  10.853872  \n",
       "2     CCOc1c(OC)ccc2cc(C(=O)NCCc3ccncc3)c(=O)[nH]c12  10.698970  \n",
       "3  CCCCCOc1c(OC)ccc2cc(C(=O)NCCc3ccc(F)cc3)c(=O)n...  10.677781  \n",
       "4  CCCOc1c(OC)ccc2cc(C(=O)NCCc3ccc(F)cc3)c(=O)[nH...  10.677781  "
      ]
     },
     "execution_count": 92,
     "metadata": {},
     "output_type": "execute_result"
    }
   ],
   "source": [
    "output_df.to_csv(DATA / \"CB2_compounds.csv\")\n",
    "output_df.head()"
   ]
  },
  {
   "cell_type": "code",
   "execution_count": null,
   "id": "5ecb3414",
   "metadata": {},
   "outputs": [],
   "source": []
  }
 ],
 "metadata": {
  "kernelspec": {
   "display_name": "Python 3 (ipykernel)",
   "language": "python",
   "name": "python3"
  },
  "language_info": {
   "codemirror_mode": {
    "name": "ipython",
    "version": 3
   },
   "file_extension": ".py",
   "mimetype": "text/x-python",
   "name": "python",
   "nbconvert_exporter": "python",
   "pygments_lexer": "ipython3",
   "version": "3.8.13"
  }
 },
 "nbformat": 4,
 "nbformat_minor": 5
}
